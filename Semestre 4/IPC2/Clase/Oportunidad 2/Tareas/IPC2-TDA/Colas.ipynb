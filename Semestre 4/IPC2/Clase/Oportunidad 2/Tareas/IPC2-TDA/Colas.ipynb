{
  "nbformat": 4,
  "nbformat_minor": 0,
  "metadata": {
    "colab": {
      "name": "Colas.ipynb",
      "provenance": []
    },
    "kernelspec": {
      "name": "python3",
      "display_name": "Python 3"
    }
  },
  "cells": [
    {
      "cell_type": "markdown",
      "metadata": {
        "id": "RPj9v0ZFitfp"
      },
      "source": [
        "# **Colas**"
      ]
    },
    {
      "cell_type": "markdown",
      "metadata": {
        "id": "aln0r3QIRwEK"
      },
      "source": [
        "## **Clase Cliente**"
      ]
    },
    {
      "cell_type": "code",
      "metadata": {
        "id": "7qZFC2QcR2IT"
      },
      "source": [
        "class cliente:\r\n",
        "  def __init__ (self, nombre, no_habitacion):\r\n",
        "    self.nombre = nombre\r\n",
        "    self.no_habitacion = no_habitacion"
      ],
      "execution_count": 16,
      "outputs": []
    },
    {
      "cell_type": "markdown",
      "metadata": {
        "id": "7UJfI9myTi7C"
      },
      "source": [
        "**Creación de Objetos Cliente**"
      ]
    },
    {
      "cell_type": "code",
      "metadata": {
        "id": "7f705pQATzZo"
      },
      "source": [
        "c1 = cliente(\"Estuardo Zapeta\", 101)\r\n",
        "c2 = cliente(\"Marco López\", 103)\r\n",
        "c3 = cliente(\"Josue Armas\", 204)\r\n",
        "c4 = cliente(\"Gladys Olmos\", 302)"
      ],
      "execution_count": 17,
      "outputs": []
    },
    {
      "cell_type": "markdown",
      "metadata": {
        "id": "YQ8vcK3jjL5m"
      },
      "source": [
        "## **Clase Cola**"
      ]
    },
    {
      "cell_type": "code",
      "metadata": {
        "id": "eSv2ZsUePyGv"
      },
      "source": [
        "class Cola:\r\n",
        "  def __init__ (self):\r\n",
        "    self.cola = []\r\n",
        "\r\n",
        "  def encolar (self, cliente):\r\n",
        "    self.cola.append(cliente)\r\n",
        "\r\n",
        "  def devolver_tamano(self):\r\n",
        "    return len(self.cola)\r\n",
        "\r\n",
        "  def imprimir (self):\r\n",
        "    for elemento in self.cola:\r\n",
        "      print(elemento.nombre, end =\" <= \")\r\n",
        "\r\n",
        "  def desencolar(self):\r\n",
        "    if self.cola:\r\n",
        "      self.cola.pop(0)"
      ],
      "execution_count": 30,
      "outputs": []
    },
    {
      "cell_type": "markdown",
      "metadata": {
        "id": "0f7NAn-yerhq"
      },
      "source": [
        "**Inserción**"
      ]
    },
    {
      "cell_type": "code",
      "metadata": {
        "id": "UpGpTF97jIFt"
      },
      "source": [
        "c=Cola()\r\n",
        "c.encolar(c1)\r\n",
        "c.encolar(c2)\r\n",
        "c.encolar(c3)\r\n",
        "c.encolar(c4)"
      ],
      "execution_count": 19,
      "outputs": []
    },
    {
      "cell_type": "markdown",
      "metadata": {
        "id": "-1wfZON4eyEJ"
      },
      "source": [
        "**Tamaño**"
      ]
    },
    {
      "cell_type": "code",
      "metadata": {
        "colab": {
          "base_uri": "https://localhost:8080/"
        },
        "id": "EYCk56G_jnLT",
        "outputId": "0dedf779-5e77-4f71-fd95-5d68a55c2436"
      },
      "source": [
        "c.devolver_tamano()"
      ],
      "execution_count": 26,
      "outputs": [
        {
          "output_type": "execute_result",
          "data": {
            "text/plain": [
              "4"
            ]
          },
          "metadata": {
            "tags": []
          },
          "execution_count": 26
        }
      ]
    },
    {
      "cell_type": "markdown",
      "metadata": {
        "id": "Yp771X3GmneA"
      },
      "source": [
        "**Imprimir**"
      ]
    },
    {
      "cell_type": "code",
      "metadata": {
        "colab": {
          "base_uri": "https://localhost:8080/"
        },
        "id": "iZSOf3TijpYh",
        "outputId": "7b84f729-5561-4e88-8645-ff9c0c7fd4de"
      },
      "source": [
        "c.imprimir()"
      ],
      "execution_count": 27,
      "outputs": [
        {
          "output_type": "stream",
          "text": [
            "Estuardo Zapeta <=Marco López <=Josue Armas <=Gladys Olmos <="
          ],
          "name": "stdout"
        }
      ]
    },
    {
      "cell_type": "markdown",
      "metadata": {
        "id": "vo37tN-HmoTx"
      },
      "source": [
        "**Desencolar**"
      ]
    },
    {
      "cell_type": "code",
      "metadata": {
        "id": "aXPzJjWnlczt"
      },
      "source": [
        "c.desencolar()"
      ],
      "execution_count": 28,
      "outputs": []
    },
    {
      "cell_type": "markdown",
      "metadata": {
        "id": "gm62QOMGmrbc"
      },
      "source": [
        "**Imprimir**"
      ]
    },
    {
      "cell_type": "code",
      "metadata": {
        "colab": {
          "base_uri": "https://localhost:8080/"
        },
        "id": "_Vcjn6eLlfMV",
        "outputId": "cf34cdb7-3b6d-4378-eb32-5b79a4a08ea8"
      },
      "source": [
        "c.imprimir()"
      ],
      "execution_count": 29,
      "outputs": [
        {
          "output_type": "stream",
          "text": [
            "Marco López <=Josue Armas <=Gladys Olmos <="
          ],
          "name": "stdout"
        }
      ]
    }
  ]
}