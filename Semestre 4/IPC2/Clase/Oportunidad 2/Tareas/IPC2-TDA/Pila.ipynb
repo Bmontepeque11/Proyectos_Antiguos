{
  "nbformat": 4,
  "nbformat_minor": 0,
  "metadata": {
    "colab": {
      "name": "Pila.ipynb",
      "provenance": []
    },
    "kernelspec": {
      "name": "python3",
      "display_name": "Python 3"
    }
  },
  "cells": [
    {
      "cell_type": "markdown",
      "metadata": {
        "id": "RPj9v0ZFitfp"
      },
      "source": [
        "# **Pilas**"
      ]
    },
    {
      "cell_type": "markdown",
      "metadata": {
        "id": "aln0r3QIRwEK"
      },
      "source": [
        "## **Clase Cliente**"
      ]
    },
    {
      "cell_type": "code",
      "metadata": {
        "id": "7qZFC2QcR2IT"
      },
      "source": [
        "class cliente:\r\n",
        "  def __init__ (self, nombre, no_habitacion):\r\n",
        "    self.nombre = nombre\r\n",
        "    self.no_habitacion = no_habitacion"
      ],
      "execution_count": 1,
      "outputs": []
    },
    {
      "cell_type": "markdown",
      "metadata": {
        "id": "7UJfI9myTi7C"
      },
      "source": [
        "**Creación de Objetos Cliente**"
      ]
    },
    {
      "cell_type": "code",
      "metadata": {
        "id": "7f705pQATzZo"
      },
      "source": [
        "c1 = cliente(\"Estuardo Zapeta\", 101)\r\n",
        "c2 = cliente(\"Marco López\", 103)\r\n",
        "c3 = cliente(\"Josue Armas\", 204)\r\n",
        "c4 = cliente(\"Gladys Olmos\", 302)"
      ],
      "execution_count": 3,
      "outputs": []
    },
    {
      "cell_type": "markdown",
      "metadata": {
        "id": "YQ8vcK3jjL5m"
      },
      "source": [
        "## **Clase Pila**"
      ]
    },
    {
      "cell_type": "code",
      "metadata": {
        "id": "5O-N1N58lTvY"
      },
      "source": [
        "class Pila:\r\n",
        "  def __init__ (self):\r\n",
        "    self.pila = []\r\n",
        "\r\n",
        "  def apilar (self, cliente):\r\n",
        "    self.pila.append(cliente)\r\n",
        "\r\n",
        "  def devolver_tamano(self):\r\n",
        "    return len(self.pila)\r\n",
        "\r\n",
        "  def imprimir (self):\r\n",
        "    for elemento in self.pila:\r\n",
        "      print(elemento.nombre, end =\" => \")\r\n",
        "\r\n",
        "  def desapilar(self):\r\n",
        "    if self.pila:\r\n",
        "      self.pila.pop()"
      ],
      "execution_count": 4,
      "outputs": []
    },
    {
      "cell_type": "markdown",
      "metadata": {
        "id": "0f7NAn-yerhq"
      },
      "source": [
        "**Inserción**"
      ]
    },
    {
      "cell_type": "code",
      "metadata": {
        "id": "UpGpTF97jIFt"
      },
      "source": [
        "p=Pila()\r\n",
        "p.apilar(c1)\r\n",
        "p.apilar(c2)\r\n",
        "p.apilar(c3)\r\n",
        "p.apilar(c4)"
      ],
      "execution_count": 5,
      "outputs": []
    },
    {
      "cell_type": "markdown",
      "metadata": {
        "id": "-1wfZON4eyEJ"
      },
      "source": [
        "**Tamaño**"
      ]
    },
    {
      "cell_type": "code",
      "metadata": {
        "colab": {
          "base_uri": "https://localhost:8080/"
        },
        "id": "EYCk56G_jnLT",
        "outputId": "7d9a22c4-0cd7-4cb0-dcad-6b7cb3f2ffed"
      },
      "source": [
        "p.devolver_tamano()"
      ],
      "execution_count": 6,
      "outputs": [
        {
          "output_type": "execute_result",
          "data": {
            "text/plain": [
              "4"
            ]
          },
          "metadata": {
            "tags": []
          },
          "execution_count": 6
        }
      ]
    },
    {
      "cell_type": "markdown",
      "metadata": {
        "id": "Yp771X3GmneA"
      },
      "source": [
        "**Imprimir**"
      ]
    },
    {
      "cell_type": "code",
      "metadata": {
        "colab": {
          "base_uri": "https://localhost:8080/"
        },
        "id": "iZSOf3TijpYh",
        "outputId": "37b3e94b-8e8f-445d-ebbf-3683232e700d"
      },
      "source": [
        "p.imprimir()"
      ],
      "execution_count": 7,
      "outputs": [
        {
          "output_type": "stream",
          "text": [
            "Estuardo Zapeta => Marco López => Josue Armas => Gladys Olmos => "
          ],
          "name": "stdout"
        }
      ]
    },
    {
      "cell_type": "markdown",
      "metadata": {
        "id": "vo37tN-HmoTx"
      },
      "source": [
        "**Desencolar**"
      ]
    },
    {
      "cell_type": "code",
      "metadata": {
        "id": "aXPzJjWnlczt"
      },
      "source": [
        "p.desapilar()"
      ],
      "execution_count": 8,
      "outputs": []
    },
    {
      "cell_type": "markdown",
      "metadata": {
        "id": "gm62QOMGmrbc"
      },
      "source": [
        "**Imprimir**"
      ]
    },
    {
      "cell_type": "code",
      "metadata": {
        "colab": {
          "base_uri": "https://localhost:8080/"
        },
        "id": "_Vcjn6eLlfMV",
        "outputId": "ae2a57ed-8c4a-40d4-9e8f-5fc94b75149c"
      },
      "source": [
        "p.imprimir()"
      ],
      "execution_count": 9,
      "outputs": [
        {
          "output_type": "stream",
          "text": [
            "Estuardo Zapeta => Marco López => Josue Armas => "
          ],
          "name": "stdout"
        }
      ]
    }
  ]
}