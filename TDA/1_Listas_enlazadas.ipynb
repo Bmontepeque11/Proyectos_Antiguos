{
  "nbformat": 4,
  "nbformat_minor": 0,
  "metadata": {
    "colab": {
      "name": "1.Listas enlazadas.ipynb",
      "provenance": [],
      "collapsed_sections": [],
      "include_colab_link": true
    },
    "kernelspec": {
      "name": "python3",
      "display_name": "Python 3"
    },
    "language_info": {
      "name": "python"
    }
  },
  "cells": [
    {
      "cell_type": "markdown",
      "metadata": {
        "id": "view-in-github",
        "colab_type": "text"
      },
      "source": [
        "<a href=\"https://colab.research.google.com/github/Bmontepeque11/Proyectos_Antiguos/blob/master/TDA/1_Listas_enlazadas.ipynb\" target=\"_parent\"><img src=\"https://colab.research.google.com/assets/colab-badge.svg\" alt=\"Open In Colab\"/></a>"
      ]
    },
    {
      "cell_type": "markdown",
      "metadata": {
        "id": "NmYlr-jqtqbr"
      },
      "source": [
        "#**Listas Enzaladas**\n",
        "**Definición de la clase Estudiante**\n"
      ]
    },
    {
      "cell_type": "code",
      "metadata": {
        "id": "yjFBfKB3uRuM"
      },
      "source": [
        "class estudiante:\n",
        "  def __init__(self, carne, nombre, edad, direccion, telefono, email, carrera, puesto):\n",
        "    self.carne =carne\n",
        "    self.nombre=nombre\n",
        "    self.edad=edad\n",
        "    self.direccion=direccion\n",
        "    self.telefono=telefono\n",
        "    self.email=email\n",
        "    self.carrera=carrera\n",
        "    self.puesto=puesto\n",
        "\n"
      ],
      "execution_count": 2,
      "outputs": []
    },
    {
      "cell_type": "markdown",
      "metadata": {
        "id": "pBFTyAE9zT8O"
      },
      "source": [
        "**Definición de la clase Nodo**"
      ]
    },
    {
      "cell_type": "code",
      "metadata": {
        "id": "VuiQa2RezX-W"
      },
      "source": [
        "class nodo:\n",
        "  def __init__(self,estudiante=None, siguiente=None):\n",
        "    self.estudiante=estudiante\n",
        "    self.siguiente=siguiente"
      ],
      "execution_count": 3,
      "outputs": []
    },
    {
      "cell_type": "markdown",
      "metadata": {
        "id": "5yDLvy_72-Qc"
      },
      "source": [
        "**Definición de clase Lista Enlazada**"
      ]
    },
    {
      "cell_type": "code",
      "metadata": {
        "id": "FOH_4gCc0IsZ"
      },
      "source": [
        "class lista_enlazada:\n",
        "  def __init__(self):\n",
        "    self.primero=None\n",
        "\n",
        "  def insertar(self,estudiante):\n",
        "    if self.primero is None:\n",
        "      self.primero= nodo(estudiante=estudiante)\n",
        "      return\n",
        "    else:\n",
        "      actual=self.primero\n",
        "      while actual.siguiente:\n",
        "        actual=actual.siguiente\n",
        "      actual.siguiente=nodo(estudiante=estudiante)\n",
        "\n",
        "  def recorrer(self):\n",
        "    actual = self.primero\n",
        "    while actual!= None:\n",
        "      print('carne:',actual.estudiante.carne,'nombre:',actual.estudiante.nombre,'email:',actual.estudiante.email,' -> ')\n",
        "      actual= actual.siguiente\n",
        "\n",
        "  def eliminar(self,carne):\n",
        "    actual=self.primero\n",
        "    anterior=None\n",
        "\n",
        "    while actual and actual.estudiante.carne != carne:\n",
        "      anterior=actual\n",
        "      actual = actual.siguiente\n",
        "    if anterior is None:\n",
        "      self.primero=actual.siguiente\n",
        "    elif actual:\n",
        "      anterior.siguiente=actual.siguiente\n",
        "      actual.siguiente=None\n",
        "\n",
        "  "
      ],
      "execution_count": 10,
      "outputs": []
    },
    {
      "cell_type": "markdown",
      "metadata": {
        "id": "v9bVt35_yhmv"
      },
      "source": [
        "####**Creación de objetos Estudiante**"
      ]
    },
    {
      "cell_type": "code",
      "metadata": {
        "id": "LG1y8-7iyrOv"
      },
      "source": [
        "e1=estudiante(2019002626,'Gerson Ortiz',20,'9 calle 10-02 zona 1',22020202,'gerson.ortiz@gmail.com','Ingeniería','analista')\n",
        "e2=estudiante(2018002626,'Isabel Ortiz',20,'9 calle 10-02 zona 1',22020202,'isabel.ortiz@gmail.com','Ingeniería','diseñador')\n",
        "e3=estudiante(2017002626,'Ramona Ortiz',20,'9 calle 10-02 zona 1',22020202,'ramona.ortiz@gmail.com','Ingeniería','tester')"
      ],
      "execution_count": 11,
      "outputs": []
    },
    {
      "cell_type": "markdown",
      "metadata": {
        "id": "ze3m2eya0s2v"
      },
      "source": [
        "####**Inserción**"
      ]
    },
    {
      "cell_type": "code",
      "metadata": {
        "id": "q0MBdOK31HWa"
      },
      "source": [
        "lista_e=lista_enlazada()\n",
        "lista_e.insertar(e1)\n",
        "lista_e.insertar(e2)\n",
        "lista_e.insertar(e3)"
      ],
      "execution_count": 12,
      "outputs": []
    },
    {
      "cell_type": "markdown",
      "metadata": {
        "id": "Ym0H45mhwbPR"
      },
      "source": [
        "####**Recorrer la lista**"
      ]
    },
    {
      "cell_type": "code",
      "metadata": {
        "colab": {
          "base_uri": "https://localhost:8080/"
        },
        "id": "el7SeAFCwhcX",
        "outputId": "cce0379c-1394-4726-8291-f0a1cc46a0b9"
      },
      "source": [
        "lista_e.recorrer()"
      ],
      "execution_count": 13,
      "outputs": [
        {
          "output_type": "stream",
          "text": [
            "carne: 2019002626 nombre: Gerson Ortiz email: gerson.ortiz@gmail.com  -> \n",
            "carne: 2018002626 nombre: Isabel Ortiz email: isabel.ortiz@gmail.com  -> \n",
            "carne: 2017002626 nombre: Ramona Ortiz email: ramona.ortiz@gmail.com  -> \n"
          ],
          "name": "stdout"
        }
      ]
    },
    {
      "cell_type": "markdown",
      "metadata": {
        "id": "4F6ISjOuvRfU"
      },
      "source": [
        "####**Eliminación**\n"
      ]
    },
    {
      "cell_type": "code",
      "metadata": {
        "colab": {
          "base_uri": "https://localhost:8080/"
        },
        "id": "la1h21u6vVTg",
        "outputId": "ac23cee8-6116-4357-ec6d-2f8d4c4b87df"
      },
      "source": [
        "lista_e.eliminar(2017002626)\n",
        "lista_e.recorrer()"
      ],
      "execution_count": 14,
      "outputs": [
        {
          "output_type": "stream",
          "text": [
            "carne: 2019002626 nombre: Gerson Ortiz email: gerson.ortiz@gmail.com  -> \n",
            "carne: 2018002626 nombre: Isabel Ortiz email: isabel.ortiz@gmail.com  -> \n"
          ],
          "name": "stdout"
        }
      ]
    }
  ]
}